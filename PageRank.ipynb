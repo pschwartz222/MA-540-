{
  "nbformat": 4,
  "nbformat_minor": 0,
  "metadata": {
    "colab": {
      "provenance": [],
      "authorship_tag": "ABX9TyNjXmilAxg2a5MVNyszkYW8",
      "include_colab_link": true
    },
    "kernelspec": {
      "name": "python3",
      "display_name": "Python 3"
    },
    "language_info": {
      "name": "python"
    }
  },
  "cells": [
    {
      "cell_type": "markdown",
      "metadata": {
        "id": "view-in-github",
        "colab_type": "text"
      },
      "source": [
        "<a href=\"https://colab.research.google.com/github/pschwartz222/MA-540-/blob/main/PageRank.ipynb\" target=\"_parent\"><img src=\"https://colab.research.google.com/assets/colab-badge.svg\" alt=\"Open In Colab\"/></a>"
      ]
    },
    {
      "cell_type": "code",
      "execution_count": null,
      "metadata": {
        "id": "Y5iU2HVZ0WnP"
      },
      "outputs": [],
      "source": [
        "import numpy as np\n",
        "from numpy.linalg import eig\n",
        "from numpy import linalg as LA"
      ]
    },
    {
      "cell_type": "code",
      "source": [
        "P = np.array([[0, 0, 1/2, 1/3], [0, 0, 0, 1/3], [1/2, 0, 0, 1/3], [1/2, 0, 1/2, 0]])\n",
        "print(P)"
      ],
      "metadata": {
        "id": "SbwE7xFc7ACb",
        "colab": {
          "base_uri": "https://localhost:8080/"
        },
        "outputId": "3b31935c-09fb-4d9e-919b-418d2e258db0"
      },
      "execution_count": null,
      "outputs": [
        {
          "output_type": "stream",
          "name": "stdout",
          "text": [
            "[[0.         0.         0.5        0.33333333]\n",
            " [0.         0.         0.         0.33333333]\n",
            " [0.5        0.         0.         0.33333333]\n",
            " [0.5        0.         0.5        0.        ]]\n"
          ]
        }
      ]
    },
    {
      "cell_type": "code",
      "source": [
        "def strong_connect(P, d): #input a transition matrix and a parameter d\n",
        "  n = len(P)\n",
        "  e=(1-d)/n\n",
        "  A = np.zeros((n,n)) #The n x n zero matrix\n",
        "  for i in range(n):\n",
        "    u = P[:, i:(i+1)]\n",
        "    if (u[:]==0).all() == True: #check to see if the ith column is the zero vector\n",
        "      A[:,i]=1/n #if so the entries of A are changed to 1/n\n",
        "  C = np.full((n,n),e) #every entry of C is e\n",
        "  hat_P = (d*(A+P))+C #The strongly connect transition matrix\n",
        "  return(hat_P)\n",
        "\n"
      ],
      "metadata": {
        "id": "S8H_ITn-840p"
      },
      "execution_count": null,
      "outputs": []
    },
    {
      "cell_type": "code",
      "source": [
        "hat_P = strong_connect(P, .85)\n",
        "print(hat_P)\n"
      ],
      "metadata": {
        "id": "s24zcRpK-ME8",
        "colab": {
          "base_uri": "https://localhost:8080/"
        },
        "outputId": "726d29fd-7088-4f59-d635-bfd557168392"
      },
      "execution_count": null,
      "outputs": [
        {
          "output_type": "stream",
          "name": "stdout",
          "text": [
            "[[0.0375     0.25       0.4625     0.32083333]\n",
            " [0.0375     0.25       0.0375     0.32083333]\n",
            " [0.4625     0.25       0.0375     0.32083333]\n",
            " [0.4625     0.25       0.4625     0.0375    ]]\n"
          ]
        }
      ]
    },
    {
      "cell_type": "code",
      "source": [
        "def approx_steady_state(P, epsilon): #Numerically approximates the steady vector by itterating\n",
        "  n = len(P)\n",
        "  x = np.random.rand(n,1) #creats a random vector with entries between 0 and 1\n",
        "  s = np.sum(x)\n",
        "  x = (1/s)*x #a distribution should have entries that add to 1\n",
        "  diff = 1\n",
        "  while diff > epsilon :\n",
        "    b = P @ x #b is the new iteration\n",
        "    diff = LA.norm(b-x)\n",
        "    x=b #x is fed back into the loop\n",
        "  M = x\n",
        "  return(M)"
      ],
      "metadata": {
        "id": "GFGMk0zLE_VQ"
      },
      "execution_count": null,
      "outputs": []
    },
    {
      "cell_type": "code",
      "source": [
        "def find_steady_state(P): #Finds the steady state vector of a Markov chain\n",
        "  n=len(P)\n",
        "  w,v = eig(P)\n",
        "  w=np.array(w, dtype=np.float32)\n",
        "  v=np.array(v, dtype=np.float32)\n",
        "  for i in range(n):\n",
        "    if w[i] == 1: #checks if ith eigenvalue is 1\n",
        "      U=np.array(v[:,i:(i+1)]) #picks the eigenvalue associated to 1\n",
        "  if U[0] < 0: # sign of entries of eigenvector may need to be flipped\n",
        "    W=-U\n",
        "  else: W=U\n",
        "  c = np.sum(W) #steady state vector should be a probability distribution with sum = 1\n",
        "  M = (1/c)*W\n",
        "  return(M)"
      ],
      "metadata": {
        "id": "FmUPI2NkXCSS"
      },
      "execution_count": null,
      "outputs": []
    },
    {
      "cell_type": "code",
      "source": [
        "M = find_steady_state(hat_P)\n",
        "V = approx_steady_state(hat_P, .000001)\n",
        "E = abs(V-M)\n",
        "error = np.sum(E)\n",
        "print(\"numerical:\\n\", V)\n",
        "print(\"actual:\\n\", M)\n",
        "print(\"error:\\n\", error)"
      ],
      "metadata": {
        "colab": {
          "base_uri": "https://localhost:8080/"
        },
        "id": "xk5q7ejOXmja",
        "outputId": "5ae40608-6e1c-44b9-c586-c8f38397eaec"
      },
      "execution_count": null,
      "outputs": [
        {
          "output_type": "stream",
          "name": "stdout",
          "text": [
            "numerical:\n",
            " [[0.27134163]\n",
            " [0.15602151]\n",
            " [0.27134184]\n",
            " [0.30129502]]\n",
            "actual:\n",
            " [[0.27134174]\n",
            " [0.15602149]\n",
            " [0.27134174]\n",
            " [0.301295  ]]\n",
            "error:\n",
            " 2.3115713287946704e-07\n"
          ]
        }
      ]
    },
    {
      "cell_type": "code",
      "source": [
        "P = np.array([[0,1,0,0], [1, 0, 0, 0], [0, 0, 0, 1], [0, 0, 1, 0]])\n",
        "print(P)"
      ],
      "metadata": {
        "colab": {
          "base_uri": "https://localhost:8080/"
        },
        "id": "NBwsMKMh35oF",
        "outputId": "5fc7f89b-afde-4598-8544-6c4903640347"
      },
      "execution_count": null,
      "outputs": [
        {
          "output_type": "stream",
          "name": "stdout",
          "text": [
            "[[0 1 0 0]\n",
            " [1 0 0 0]\n",
            " [0 0 0 1]\n",
            " [0 0 1 0]]\n"
          ]
        }
      ]
    },
    {
      "cell_type": "code",
      "source": [
        "hat_P = strong_connect(P, .85)\n",
        "print(hat_P)"
      ],
      "metadata": {
        "colab": {
          "base_uri": "https://localhost:8080/"
        },
        "id": "lcOkp2vx4Gpb",
        "outputId": "70eaece9-8839-4bce-dd27-8bc77a40cb36"
      },
      "execution_count": null,
      "outputs": [
        {
          "output_type": "stream",
          "name": "stdout",
          "text": [
            "[[0.0375 0.8875 0.0375 0.0375]\n",
            " [0.8875 0.0375 0.0375 0.0375]\n",
            " [0.0375 0.0375 0.0375 0.8875]\n",
            " [0.0375 0.0375 0.8875 0.0375]]\n"
          ]
        }
      ]
    },
    {
      "cell_type": "code",
      "source": [
        "M = approx_steady_state(hat_P, .000001)\n",
        "print(M)"
      ],
      "metadata": {
        "colab": {
          "base_uri": "https://localhost:8080/"
        },
        "id": "a1_E0zlA4ZI1",
        "outputId": "74c7f21d-7ce6-4e0f-b2d1-9f5163e3e487"
      },
      "execution_count": null,
      "outputs": [
        {
          "output_type": "stream",
          "name": "stdout",
          "text": [
            "[[0.25000012]\n",
            " [0.25000013]\n",
            " [0.2499996 ]\n",
            " [0.25000016]]\n"
          ]
        }
      ]
    },
    {
      "cell_type": "code",
      "source": [
        "M = find_steady_state(hat_P)\n",
        "V = approx_steady_state(hat_P, .000001)\n",
        "E = abs(V-M)\n",
        "error = np.sum(E)\n",
        "print(\"numerical:\\n\", V)\n",
        "print(\"actual:\\n\", M)\n",
        "print(\"error:\\n\", error)"
      ],
      "metadata": {
        "colab": {
          "base_uri": "https://localhost:8080/"
        },
        "id": "nHhYIfKN6i99",
        "outputId": "a9d1d592-c934-4b9c-88ed-fbffb5eb09cf"
      },
      "execution_count": null,
      "outputs": [
        {
          "output_type": "stream",
          "name": "stdout",
          "text": [
            "numerical:\n",
            " [[0.24999951]\n",
            " [0.25000002]\n",
            " [0.25000039]\n",
            " [0.25000008]]\n",
            "actual:\n",
            " [[0.25]\n",
            " [0.25]\n",
            " [0.25]\n",
            " [0.25]]\n",
            "error:\n",
            " 9.86107943884429e-07\n"
          ]
        }
      ]
    }
  ]
}