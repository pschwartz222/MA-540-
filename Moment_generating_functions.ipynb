{
  "nbformat": 4,
  "nbformat_minor": 0,
  "metadata": {
    "colab": {
      "provenance": [],
      "authorship_tag": "ABX9TyPuVr2PnvBjeBq1UBpH7aV3",
      "include_colab_link": true
    },
    "kernelspec": {
      "name": "python3",
      "display_name": "Python 3"
    },
    "language_info": {
      "name": "python"
    }
  },
  "cells": [
    {
      "cell_type": "markdown",
      "metadata": {
        "id": "view-in-github",
        "colab_type": "text"
      },
      "source": [
        "<a href=\"https://colab.research.google.com/github/pschwartz222/MA-540-/blob/main/Moment_generating_functions.ipynb\" target=\"_parent\"><img src=\"https://colab.research.google.com/assets/colab-badge.svg\" alt=\"Open In Colab\"/></a>"
      ]
    },
    {
      "cell_type": "code",
      "execution_count": null,
      "metadata": {
        "id": "jNHXvOlqJfMf"
      },
      "outputs": [],
      "source": [
        "import numpy as np\n",
        "from numpy.linalg import eig\n",
        "from numpy import linalg as LA\n",
        "import matplotlib.pyplot as plt\n",
        "from sympy import diff, symbols\n",
        "from sympy import cos, sin, Matrix, exp"
      ]
    },
    {
      "cell_type": "markdown",
      "source": [
        "X ~ Bin(n, p). Let's find the first two moments of X."
      ],
      "metadata": {
        "id": "6DjweRSoMVDx"
      }
    },
    {
      "cell_type": "code",
      "source": [
        "t, p, n = symbols('t p n')\n",
        "\n",
        "M = (exp(t)*p + 1 - p)**n\n",
        "\n",
        "print('M_X(t) =', M)"
      ],
      "metadata": {
        "colab": {
          "base_uri": "https://localhost:8080/"
        },
        "id": "A8PiZRL5Jlfn",
        "outputId": "fc3b74b5-0a77-4177-e752-73f96c49fe3c"
      },
      "execution_count": null,
      "outputs": [
        {
          "output_type": "stream",
          "name": "stdout",
          "text": [
            "M_X(t) = (p*exp(t) - p + 1)**n\n"
          ]
        }
      ]
    },
    {
      "cell_type": "code",
      "source": [
        "M_1 = diff(M, t)\n",
        "\n",
        "print('d/dt (M_X(t)) =', M_1)"
      ],
      "metadata": {
        "colab": {
          "base_uri": "https://localhost:8080/"
        },
        "id": "DJXkcHB7KErP",
        "outputId": "121606e8-08fe-48f3-b160-d82016e738e9"
      },
      "execution_count": null,
      "outputs": [
        {
          "output_type": "stream",
          "name": "stdout",
          "text": [
            "d/dt (M_X(t)) = n*p*(p*exp(t) - p + 1)**n*exp(t)/(p*exp(t) - p + 1)\n"
          ]
        }
      ]
    },
    {
      "cell_type": "code",
      "source": [
        "moment_1 = M_1.subs({t: 0})\n",
        "\n",
        "print('E[X] =', moment_1)"
      ],
      "metadata": {
        "colab": {
          "base_uri": "https://localhost:8080/"
        },
        "id": "a_kIEK5QKSuP",
        "outputId": "93db9e24-c9e4-41a1-a20c-ad25112f195e"
      },
      "execution_count": null,
      "outputs": [
        {
          "output_type": "stream",
          "name": "stdout",
          "text": [
            "E[X] = n*p\n"
          ]
        }
      ]
    },
    {
      "cell_type": "code",
      "source": [
        "M_2 = diff(M_1, t)\n",
        "\n",
        "moment_2 = M_2.subs({t: 0})\n",
        "\n",
        "print('E[X^2] =', moment_2)"
      ],
      "metadata": {
        "colab": {
          "base_uri": "https://localhost:8080/"
        },
        "id": "bFmJ8MsNKnNg",
        "outputId": "d4c453d5-e127-4178-f358-f48da34358c0"
      },
      "execution_count": null,
      "outputs": [
        {
          "output_type": "stream",
          "name": "stdout",
          "text": [
            "E[X^2] = n**2*p**2 - n*p**2 + n*p\n"
          ]
        }
      ]
    },
    {
      "cell_type": "code",
      "source": [
        "print('Var(X) =', moment_2 - (moment_1)**2)"
      ],
      "metadata": {
        "colab": {
          "base_uri": "https://localhost:8080/"
        },
        "id": "nKc-kqLjMHpN",
        "outputId": "9ca0cd35-6922-4cbf-b9c8-c674fa750a2e"
      },
      "execution_count": null,
      "outputs": [
        {
          "output_type": "stream",
          "name": "stdout",
          "text": [
            "Var(X) = -n*p**2 + n*p\n"
          ]
        }
      ]
    },
    {
      "cell_type": "markdown",
      "source": [
        "Now let's say Y ~ Exp(n). Let's find the first two moments of Y."
      ],
      "metadata": {
        "id": "QyMWS1fLMhYR"
      }
    },
    {
      "cell_type": "code",
      "source": [
        "f = n/(n-t)\n",
        "\n",
        "f_1 = diff(f, t)\n",
        "\n",
        "print('d/dt (M_Y(t)) =', f_1)\n",
        "\n",
        "e_1 = f_1.subs({t: 0})\n",
        "\n",
        "print('E[Y] =', e_1)\n",
        "\n",
        "f_2 = diff(f_1, t)\n",
        "\n",
        "print('d^2/dt^2 (M_Y(t)) =', f_2)\n",
        "\n",
        "e_2 = f_2.subs({t: 0})\n",
        "\n",
        "print('E[Y^2] =', e_2)\n",
        "\n",
        "print('Var(Y) =', e_2 - e_1**2)"
      ],
      "metadata": {
        "colab": {
          "base_uri": "https://localhost:8080/"
        },
        "id": "kCL7y0rRMp9B",
        "outputId": "8da61d81-7ec9-4f92-df83-206606292dd3"
      },
      "execution_count": null,
      "outputs": [
        {
          "output_type": "stream",
          "name": "stdout",
          "text": [
            "d/dt (M_Y(t)) = n/(n - t)**2\n",
            "E[Y] = 1/n\n",
            "d^2/dt^2 (M_Y(t)) = 2*n/(n - t)**3\n",
            "E[Y^2] = 2/n**2\n",
            "Var(Y) = n**(-2)\n"
          ]
        }
      ]
    }
  ]
}