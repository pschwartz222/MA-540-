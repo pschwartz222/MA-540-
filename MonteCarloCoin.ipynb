{
  "nbformat": 4,
  "nbformat_minor": 0,
  "metadata": {
    "colab": {
      "provenance": [],
      "authorship_tag": "ABX9TyMLHjil9vQNTdMDXeBk0JHf",
      "include_colab_link": true
    },
    "kernelspec": {
      "name": "python3",
      "display_name": "Python 3"
    },
    "language_info": {
      "name": "python"
    }
  },
  "cells": [
    {
      "cell_type": "markdown",
      "metadata": {
        "id": "view-in-github",
        "colab_type": "text"
      },
      "source": [
        "<a href=\"https://colab.research.google.com/github/pschwartz222/MA-540-/blob/main/MonteCarloCoin.ipynb\" target=\"_parent\"><img src=\"https://colab.research.google.com/assets/colab-badge.svg\" alt=\"Open In Colab\"/></a>"
      ]
    },
    {
      "cell_type": "markdown",
      "source": [
        "Monte Carlo Simulation of a coin toss"
      ],
      "metadata": {
        "id": "8gz59GgUyD-9"
      }
    },
    {
      "cell_type": "code",
      "source": [
        "import random\n",
        "\n",
        "def unbiased_coin_toss():\n",
        "    # Generate a random number from 0 to 1\n",
        "    x = random.uniform(0, 1)\n",
        "\n",
        "    # Probability that the number falls between 0 and 0.5 is 1/2\n",
        "    if x > 0.5:\n",
        "        # Heads for True\n",
        "        return True\n",
        "    else:\n",
        "        # Tails for False\n",
        "        return False\n",
        "\n",
        "# Test the outcome of the function\n",
        "for i in range(10):\n",
        "    print(unbiased_coin_toss())"
      ],
      "metadata": {
        "id": "Hs_gYVi2VFzi",
        "colab": {
          "base_uri": "https://localhost:8080/"
        },
        "outputId": "fbb3f4a2-e332-493b-90a3-f89ab7c79c0d"
      },
      "execution_count": null,
      "outputs": [
        {
          "output_type": "stream",
          "name": "stdout",
          "text": [
            "True\n",
            "True\n",
            "False\n",
            "False\n",
            "True\n",
            "False\n",
            "True\n",
            "False\n",
            "False\n",
            "False\n"
          ]
        }
      ]
    },
    {
      "cell_type": "code",
      "source": [
        "def coin_flip_sim(N):\n",
        "    results= [] #list to store results (True/False)\n",
        "\n",
        "    # Toss the coin N times and store the results in a list\n",
        "    for i in range(N):\n",
        "      result = unbiased_coin_toss()\n",
        "      results.append(result)\n",
        "\n",
        "    # Find the total number of Heads\n",
        "    n_heads = sum(results)\n",
        "\n",
        "    # Calculate the probability of Heads in the experiment\n",
        "    probability_heads = n_heads / N\n",
        "\n",
        "    print(f\"Number of Heads: {n_heads}\")\n",
        "    print(f\"Simulated probability of Heads in {N} coin tosses: {probability_heads:.4f}\")\n",
        "\n",
        "coin_flip_sim(10000)"
      ],
      "metadata": {
        "id": "qo02cJkUVfUe",
        "colab": {
          "base_uri": "https://localhost:8080/"
        },
        "outputId": "46fc17b0-e90e-4dd6-f06a-e03c01577c8a"
      },
      "execution_count": null,
      "outputs": [
        {
          "output_type": "stream",
          "name": "stdout",
          "text": [
            "Number of Heads: 4992\n",
            "Simulated probability of Heads in 10000 coin tosses: 0.4992\n"
          ]
        }
      ]
    },
    {
      "cell_type": "code",
      "source": [
        "def flip_the_coin():\n",
        "    fair_coin = [0,1]\n",
        "    return random.choice(fair_coin) #returns a number 0 or 1\n",
        "\n",
        "#test the outcome\n",
        "for i in range(10):\n",
        "    print(flip_the_coin())"
      ],
      "metadata": {
        "id": "NDr19cxlbvpo",
        "colab": {
          "base_uri": "https://localhost:8080/"
        },
        "outputId": "9ca8e47e-4f14-4295-9af4-d44f12d6536e"
      },
      "execution_count": null,
      "outputs": [
        {
          "output_type": "stream",
          "name": "stdout",
          "text": [
            "0\n",
            "1\n",
            "1\n",
            "0\n",
            "0\n",
            "1\n",
            "1\n",
            "0\n",
            "1\n",
            "0\n"
          ]
        }
      ]
    },
    {
      "cell_type": "code",
      "source": [
        "\n",
        "def MonteCarlo_coin(N):\n",
        "    results = [] #list to store results (0/1)\n",
        "    #toss the coin N times and store the results in a list\n",
        "\n",
        "    for i in range(N):\n",
        "      result = flip_the_coin()\n",
        "      results.append(result)\n",
        "\n",
        "    #find the number of Heads\n",
        "    n_heads = sum(results) #this is the number of 1's (Heads)\n",
        "\n",
        "    #probability of Heads\n",
        "    prob_heads = n_heads / N\n",
        "\n",
        "    print(f\"Number of Heads: {n_heads}\")\n",
        "    print(f\"Simulated probability of Heads in {N} coin tosses: {prob_heads:.4f}\") #allows you to adjust the number of digits\n",
        "    return n_heads\n",
        "\n",
        "MonteCarlo_coin(10000)"
      ],
      "metadata": {
        "colab": {
          "base_uri": "https://localhost:8080/"
        },
        "id": "DpR-_i4WdG1t",
        "outputId": "2181e9de-9b9e-4701-dc1e-fa31de39ffe1"
      },
      "execution_count": null,
      "outputs": [
        {
          "output_type": "stream",
          "name": "stdout",
          "text": [
            "Number of Heads: 5007\n",
            "Simulated probability of Heads in 10000 coin tosses: 0.5007\n"
          ]
        },
        {
          "output_type": "execute_result",
          "data": {
            "text/plain": [
              "5007"
            ]
          },
          "metadata": {},
          "execution_count": 10
        }
      ]
    },
    {
      "cell_type": "markdown",
      "source": [
        "variance = n*p(1-p)=10,000/4=2,500."
      ],
      "metadata": {
        "id": "IhOGRosUjYeP"
      }
    },
    {
      "cell_type": "code",
      "source": [
        "def Var_sim(M,N):\n",
        "    exp_value = N / 2\n",
        "    vars = [] #array to store variance in\n",
        "    for i in range(M):\n",
        "      sim_value = MonteCarlo_coin(N)\n",
        "      sim_var = (sim_value - exp_value)**2 #simulated variance\n",
        "      vars.append(sim_var)\n",
        "      print(f\"Variance: {sim_var}\")\n",
        "      print( ) #adds space between each simulation\n",
        "    sum_var = sum(vars)\n",
        "    avg_var = sum_var / M\n",
        "    print(f\"approximate variance: {avg_var: .2f}\")\n",
        "\n",
        "Var_sim(50, 100000)"
      ],
      "metadata": {
        "id": "xD5fzK3HzIVx",
        "colab": {
          "base_uri": "https://localhost:8080/"
        },
        "outputId": "19f21842-c7ef-423f-ef89-193e6b154c86"
      },
      "execution_count": null,
      "outputs": [
        {
          "output_type": "stream",
          "name": "stdout",
          "text": [
            "Number of Heads: 50222\n",
            "Simulated probability of Heads in 100000 coin tosses: 0.5022\n",
            "Variance: 49284.0\n",
            "\n",
            "Number of Heads: 50193\n",
            "Simulated probability of Heads in 100000 coin tosses: 0.5019\n",
            "Variance: 37249.0\n",
            "\n",
            "Number of Heads: 50077\n",
            "Simulated probability of Heads in 100000 coin tosses: 0.5008\n",
            "Variance: 5929.0\n",
            "\n",
            "Number of Heads: 50181\n",
            "Simulated probability of Heads in 100000 coin tosses: 0.5018\n",
            "Variance: 32761.0\n",
            "\n",
            "Number of Heads: 49699\n",
            "Simulated probability of Heads in 100000 coin tosses: 0.4970\n",
            "Variance: 90601.0\n",
            "\n",
            "Number of Heads: 49855\n",
            "Simulated probability of Heads in 100000 coin tosses: 0.4985\n",
            "Variance: 21025.0\n",
            "\n",
            "Number of Heads: 50088\n",
            "Simulated probability of Heads in 100000 coin tosses: 0.5009\n",
            "Variance: 7744.0\n",
            "\n",
            "Number of Heads: 49981\n",
            "Simulated probability of Heads in 100000 coin tosses: 0.4998\n",
            "Variance: 361.0\n",
            "\n",
            "Number of Heads: 49959\n",
            "Simulated probability of Heads in 100000 coin tosses: 0.4996\n",
            "Variance: 1681.0\n",
            "\n",
            "Number of Heads: 49958\n",
            "Simulated probability of Heads in 100000 coin tosses: 0.4996\n",
            "Variance: 1764.0\n",
            "\n",
            "Number of Heads: 50068\n",
            "Simulated probability of Heads in 100000 coin tosses: 0.5007\n",
            "Variance: 4624.0\n",
            "\n",
            "Number of Heads: 49853\n",
            "Simulated probability of Heads in 100000 coin tosses: 0.4985\n",
            "Variance: 21609.0\n",
            "\n",
            "Number of Heads: 49943\n",
            "Simulated probability of Heads in 100000 coin tosses: 0.4994\n",
            "Variance: 3249.0\n",
            "\n",
            "Number of Heads: 50094\n",
            "Simulated probability of Heads in 100000 coin tosses: 0.5009\n",
            "Variance: 8836.0\n",
            "\n",
            "Number of Heads: 50121\n",
            "Simulated probability of Heads in 100000 coin tosses: 0.5012\n",
            "Variance: 14641.0\n",
            "\n",
            "Number of Heads: 49898\n",
            "Simulated probability of Heads in 100000 coin tosses: 0.4990\n",
            "Variance: 10404.0\n",
            "\n",
            "Number of Heads: 49916\n",
            "Simulated probability of Heads in 100000 coin tosses: 0.4992\n",
            "Variance: 7056.0\n",
            "\n",
            "Number of Heads: 50017\n",
            "Simulated probability of Heads in 100000 coin tosses: 0.5002\n",
            "Variance: 289.0\n",
            "\n",
            "Number of Heads: 50159\n",
            "Simulated probability of Heads in 100000 coin tosses: 0.5016\n",
            "Variance: 25281.0\n",
            "\n",
            "Number of Heads: 49929\n",
            "Simulated probability of Heads in 100000 coin tosses: 0.4993\n",
            "Variance: 5041.0\n",
            "\n",
            "Number of Heads: 50003\n",
            "Simulated probability of Heads in 100000 coin tosses: 0.5000\n",
            "Variance: 9.0\n",
            "\n",
            "Number of Heads: 50057\n",
            "Simulated probability of Heads in 100000 coin tosses: 0.5006\n",
            "Variance: 3249.0\n",
            "\n",
            "Number of Heads: 49770\n",
            "Simulated probability of Heads in 100000 coin tosses: 0.4977\n",
            "Variance: 52900.0\n",
            "\n",
            "Number of Heads: 50133\n",
            "Simulated probability of Heads in 100000 coin tosses: 0.5013\n",
            "Variance: 17689.0\n",
            "\n",
            "Number of Heads: 49858\n",
            "Simulated probability of Heads in 100000 coin tosses: 0.4986\n",
            "Variance: 20164.0\n",
            "\n",
            "Number of Heads: 49906\n",
            "Simulated probability of Heads in 100000 coin tosses: 0.4991\n",
            "Variance: 8836.0\n",
            "\n",
            "Number of Heads: 50038\n",
            "Simulated probability of Heads in 100000 coin tosses: 0.5004\n",
            "Variance: 1444.0\n",
            "\n",
            "Number of Heads: 50412\n",
            "Simulated probability of Heads in 100000 coin tosses: 0.5041\n",
            "Variance: 169744.0\n",
            "\n",
            "Number of Heads: 49801\n",
            "Simulated probability of Heads in 100000 coin tosses: 0.4980\n",
            "Variance: 39601.0\n",
            "\n",
            "Number of Heads: 49813\n",
            "Simulated probability of Heads in 100000 coin tosses: 0.4981\n",
            "Variance: 34969.0\n",
            "\n",
            "Number of Heads: 50056\n",
            "Simulated probability of Heads in 100000 coin tosses: 0.5006\n",
            "Variance: 3136.0\n",
            "\n",
            "Number of Heads: 49899\n",
            "Simulated probability of Heads in 100000 coin tosses: 0.4990\n",
            "Variance: 10201.0\n",
            "\n",
            "Number of Heads: 49960\n",
            "Simulated probability of Heads in 100000 coin tosses: 0.4996\n",
            "Variance: 1600.0\n",
            "\n",
            "Number of Heads: 49832\n",
            "Simulated probability of Heads in 100000 coin tosses: 0.4983\n",
            "Variance: 28224.0\n",
            "\n",
            "Number of Heads: 49810\n",
            "Simulated probability of Heads in 100000 coin tosses: 0.4981\n",
            "Variance: 36100.0\n",
            "\n",
            "Number of Heads: 49903\n",
            "Simulated probability of Heads in 100000 coin tosses: 0.4990\n",
            "Variance: 9409.0\n",
            "\n",
            "Number of Heads: 49896\n",
            "Simulated probability of Heads in 100000 coin tosses: 0.4990\n",
            "Variance: 10816.0\n",
            "\n",
            "Number of Heads: 50002\n",
            "Simulated probability of Heads in 100000 coin tosses: 0.5000\n",
            "Variance: 4.0\n",
            "\n",
            "Number of Heads: 50038\n",
            "Simulated probability of Heads in 100000 coin tosses: 0.5004\n",
            "Variance: 1444.0\n",
            "\n",
            "Number of Heads: 49948\n",
            "Simulated probability of Heads in 100000 coin tosses: 0.4995\n",
            "Variance: 2704.0\n",
            "\n",
            "Number of Heads: 49945\n",
            "Simulated probability of Heads in 100000 coin tosses: 0.4995\n",
            "Variance: 3025.0\n",
            "\n",
            "Number of Heads: 50095\n",
            "Simulated probability of Heads in 100000 coin tosses: 0.5010\n",
            "Variance: 9025.0\n",
            "\n",
            "Number of Heads: 49922\n",
            "Simulated probability of Heads in 100000 coin tosses: 0.4992\n",
            "Variance: 6084.0\n",
            "\n",
            "Number of Heads: 50127\n",
            "Simulated probability of Heads in 100000 coin tosses: 0.5013\n",
            "Variance: 16129.0\n",
            "\n",
            "Number of Heads: 49977\n",
            "Simulated probability of Heads in 100000 coin tosses: 0.4998\n",
            "Variance: 529.0\n",
            "\n",
            "Number of Heads: 50089\n",
            "Simulated probability of Heads in 100000 coin tosses: 0.5009\n",
            "Variance: 7921.0\n",
            "\n",
            "Number of Heads: 50115\n",
            "Simulated probability of Heads in 100000 coin tosses: 0.5011\n",
            "Variance: 13225.0\n",
            "\n",
            "Number of Heads: 49865\n",
            "Simulated probability of Heads in 100000 coin tosses: 0.4986\n",
            "Variance: 18225.0\n",
            "\n",
            "Number of Heads: 50068\n",
            "Simulated probability of Heads in 100000 coin tosses: 0.5007\n",
            "Variance: 4624.0\n",
            "\n",
            "Number of Heads: 49970\n",
            "Simulated probability of Heads in 100000 coin tosses: 0.4997\n",
            "Variance: 900.0\n",
            "\n",
            "approximate variance:  17627.18\n"
          ]
        }
      ]
    }
  ]
}