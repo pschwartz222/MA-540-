{
  "nbformat": 4,
  "nbformat_minor": 0,
  "metadata": {
    "colab": {
      "provenance": [],
      "authorship_tag": "ABX9TyOGqfavwXYqOqUVPEJM3KPo",
      "include_colab_link": true
    },
    "kernelspec": {
      "name": "python3",
      "display_name": "Python 3"
    },
    "language_info": {
      "name": "python"
    }
  },
  "cells": [
    {
      "cell_type": "markdown",
      "metadata": {
        "id": "view-in-github",
        "colab_type": "text"
      },
      "source": [
        "<a href=\"https://colab.research.google.com/github/pschwartz222/MA-540-/blob/main/EvenOdd.ipynb\" target=\"_parent\"><img src=\"https://colab.research.google.com/assets/colab-badge.svg\" alt=\"Open In Colab\"/></a>"
      ]
    },
    {
      "cell_type": "code",
      "execution_count": null,
      "metadata": {
        "id": "aFxwSc04tVVZ"
      },
      "outputs": [],
      "source": [
        "import numpy as np\n",
        "from numpy.linalg import eig\n",
        "from numpy import linalg as LA\n",
        "import math\n",
        "import random"
      ]
    },
    {
      "cell_type": "code",
      "source": [
        "Sample_space = [1, 2, 3, 4, 5, 6]\n",
        "print(Sample_space)"
      ],
      "metadata": {
        "colab": {
          "base_uri": "https://localhost:8080/"
        },
        "id": "I6gPZQR3tmpv",
        "outputId": "18583d53-a34c-4c91-dbea-e372b768b67f"
      },
      "execution_count": null,
      "outputs": [
        {
          "output_type": "stream",
          "name": "stdout",
          "text": [
            "[1, 2, 3, 4, 5, 6]\n"
          ]
        }
      ]
    },
    {
      "cell_type": "code",
      "source": [
        "print(Sample_space[1])"
      ],
      "metadata": {
        "colab": {
          "base_uri": "https://localhost:8080/"
        },
        "id": "KsZl6chSV5bA",
        "outputId": "c62fe35b-af27-4aa2-c6e3-3117b9afc815"
      },
      "execution_count": null,
      "outputs": [
        {
          "output_type": "stream",
          "name": "stdout",
          "text": [
            "2\n"
          ]
        }
      ]
    },
    {
      "cell_type": "code",
      "source": [
        "for i in range(6):\n",
        "  print(Sample_space[i])"
      ],
      "metadata": {
        "colab": {
          "base_uri": "https://localhost:8080/"
        },
        "id": "zNJBrh32WADe",
        "outputId": "1e1532e4-5593-46bd-8803-b27696f190fd"
      },
      "execution_count": null,
      "outputs": [
        {
          "output_type": "stream",
          "name": "stdout",
          "text": [
            "1\n",
            "2\n",
            "3\n",
            "4\n",
            "5\n",
            "6\n"
          ]
        }
      ]
    },
    {
      "cell_type": "code",
      "source": [
        "print(4 % 2) #prints the remainder of 4 divided by 2\n",
        "print(1 % 2 == 0) #returns False since 1 is odd\n",
        "print(2 % 2 == 0) #returns True since 2 is even"
      ],
      "metadata": {
        "colab": {
          "base_uri": "https://localhost:8080/"
        },
        "id": "OyCd2ZJauCi1",
        "outputId": "2ef7aaf6-081c-4c1d-ca07-ee3fe5f7a452"
      },
      "execution_count": null,
      "outputs": [
        {
          "output_type": "stream",
          "name": "stdout",
          "text": [
            "0\n",
            "False\n",
            "True\n"
          ]
        }
      ]
    },
    {
      "cell_type": "code",
      "source": [
        "E = []\n",
        "\n",
        "for i in Sample_space: # i ranges over all outcomes in the Sample_space\n",
        "  if (i % 2 == 0):\n",
        "    E.append(i) # inserts even numbers into E\n",
        "\n",
        "print('Even rolls =', E)\n",
        "\n",
        "prob = len(E)/len(Sample_space)\n",
        "\n",
        "print('Probability of even roll =', prob)"
      ],
      "metadata": {
        "colab": {
          "base_uri": "https://localhost:8080/"
        },
        "id": "bAwuRtqouZ3b",
        "outputId": "05961f22-0b45-4fe2-b1f0-7602c40f2f3e"
      },
      "execution_count": null,
      "outputs": [
        {
          "output_type": "stream",
          "name": "stdout",
          "text": [
            "Even rolls = [2, 4, 6]\n",
            "Probability of even roll = 0.5\n"
          ]
        }
      ]
    }
  ]
}