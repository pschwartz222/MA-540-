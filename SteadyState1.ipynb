{
  "nbformat": 4,
  "nbformat_minor": 0,
  "metadata": {
    "colab": {
      "provenance": [],
      "authorship_tag": "ABX9TyN42OP+LAEQ2SNsn3P7wdK2",
      "include_colab_link": true
    },
    "kernelspec": {
      "name": "python3",
      "display_name": "Python 3"
    },
    "language_info": {
      "name": "python"
    }
  },
  "cells": [
    {
      "cell_type": "markdown",
      "metadata": {
        "id": "view-in-github",
        "colab_type": "text"
      },
      "source": [
        "<a href=\"https://colab.research.google.com/github/pschwartz222/MA-540-/blob/main/SteadyState1.ipynb\" target=\"_parent\"><img src=\"https://colab.research.google.com/assets/colab-badge.svg\" alt=\"Open In Colab\"/></a>"
      ]
    },
    {
      "cell_type": "code",
      "execution_count": null,
      "metadata": {
        "id": "37gaVaOZiwIa"
      },
      "outputs": [],
      "source": [
        "import numpy as np\n",
        "from numpy.linalg import eig\n",
        "from numpy import linalg as LA"
      ]
    },
    {
      "cell_type": "code",
      "source": [
        "\n",
        "P = np.array([[0, .5, .5], [1/3, 1/3, 1/3], [.25, .25, .5]])\n",
        "print(P)\n",
        "print()\n",
        "A = P.T\n",
        "print(A)"
      ],
      "metadata": {
        "colab": {
          "base_uri": "https://localhost:8080/"
        },
        "id": "ZJ9UBWsWjKkq",
        "outputId": "623757e3-95b3-49d4-d6bf-8565619e2899"
      },
      "execution_count": null,
      "outputs": [
        {
          "output_type": "stream",
          "name": "stdout",
          "text": [
            "[[0.         0.5        0.5       ]\n",
            " [0.33333333 0.33333333 0.33333333]\n",
            " [0.25       0.25       0.5       ]]\n",
            "\n",
            "[[0.         0.33333333 0.25      ]\n",
            " [0.5        0.33333333 0.25      ]\n",
            " [0.5        0.33333333 0.5       ]]\n"
          ]
        }
      ]
    },
    {
      "cell_type": "code",
      "source": [
        "w,v=eig(A)\n",
        "print('Eigenvalues:', w)\n",
        "print('Eigenvectors:', v)\n",
        "print()\n",
        "u=np.array(v, dtype=np.float32)\n",
        "print(u)"
      ],
      "metadata": {
        "colab": {
          "base_uri": "https://localhost:8080/"
        },
        "id": "S_cp4EnylCL4",
        "outputId": "41ae2021-69ce-4b77-a0bb-35d52efa4aaf"
      },
      "execution_count": null,
      "outputs": [
        {
          "output_type": "stream",
          "name": "stdout",
          "text": [
            "Eigenvalues: [ 1.         -0.30381261  0.13714594]\n",
            "Eigenvectors: [[-0.37139068 -0.8051731  -0.13550992]\n",
            " [-0.55708601  0.51994159 -0.6295454 ]\n",
            " [-0.74278135  0.28523152  0.76505532]]\n",
            "\n",
            "[[-0.37139067 -0.8051731  -0.13550992]\n",
            " [-0.557086    0.51994157 -0.6295454 ]\n",
            " [-0.74278134  0.28523153  0.7650553 ]]\n"
          ]
        }
      ]
    },
    {
      "cell_type": "code",
      "source": [
        "V=np.array(v[:,0])\n",
        "print(V)\n",
        "print()\n",
        "U=np.array(u[:,0])\n",
        "print(U)"
      ],
      "metadata": {
        "colab": {
          "base_uri": "https://localhost:8080/"
        },
        "id": "mja8uZ-Ama9R",
        "outputId": "e66af3dc-96ff-46de-e12d-a54d56d1f6a6"
      },
      "execution_count": null,
      "outputs": [
        {
          "output_type": "stream",
          "name": "stdout",
          "text": [
            "[-0.37139068 -0.55708601 -0.74278135]\n",
            "\n",
            "[-0.37139067 -0.557086   -0.74278134]\n"
          ]
        }
      ]
    },
    {
      "cell_type": "code",
      "source": [
        "b = A @ U\n",
        "print(\"AU=\", b)\n",
        "print(\"U=\", U)"
      ],
      "metadata": {
        "colab": {
          "base_uri": "https://localhost:8080/"
        },
        "id": "C588EOym4-1s",
        "outputId": "5b358770-cf73-4f50-eaae-2866c0c3eeb1"
      },
      "execution_count": null,
      "outputs": [
        {
          "output_type": "stream",
          "name": "stdout",
          "text": [
            "AU= [-0.37139067 -0.557086   -0.74278134]\n",
            "U= [-0.37139067 -0.557086   -0.74278134]\n",
            "False\n"
          ]
        }
      ]
    },
    {
      "cell_type": "code",
      "source": [
        "a= LA.norm(U)\n",
        "print(a)"
      ],
      "metadata": {
        "id": "T689LBDU-tYz",
        "colab": {
          "base_uri": "https://localhost:8080/"
        },
        "outputId": "c305a856-a391-4ae3-88e8-2232766b0ff5"
      },
      "execution_count": null,
      "outputs": [
        {
          "output_type": "stream",
          "name": "stdout",
          "text": [
            "1.0\n"
          ]
        }
      ]
    },
    {
      "cell_type": "code",
      "source": [
        "M=-U\n",
        "print(\"M=\", M)\n",
        "print(\"AM=\", A@M)"
      ],
      "metadata": {
        "colab": {
          "base_uri": "https://localhost:8080/"
        },
        "id": "9SCte_9aAYK-",
        "outputId": "2e83cfb1-b52a-4b6d-c88f-b330af98771f"
      },
      "execution_count": null,
      "outputs": [
        {
          "output_type": "stream",
          "name": "stdout",
          "text": [
            "M= [0.37139067 0.557086   0.74278134]\n",
            "Norm(M)= 1.0\n",
            "AM= [0.37139067 0.557086   0.74278134]\n"
          ]
        }
      ]
    },
    {
      "cell_type": "code",
      "source": [
        "c = np.sum(M)\n",
        "M = (1/c)*M\n",
        "print(M)\n",
        "print(A @ M)"
      ],
      "metadata": {
        "colab": {
          "base_uri": "https://localhost:8080/"
        },
        "id": "A6TJSRWMKPFo",
        "outputId": "bced2e9f-0ae8-44a4-aef5-20b62f942162"
      },
      "execution_count": null,
      "outputs": [
        {
          "output_type": "stream",
          "name": "stdout",
          "text": [
            "[0.22222222 0.3333333  0.44444445]\n"
          ]
        }
      ]
    }
  ]
}