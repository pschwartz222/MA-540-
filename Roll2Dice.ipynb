{
  "nbformat": 4,
  "nbformat_minor": 0,
  "metadata": {
    "colab": {
      "provenance": [],
      "authorship_tag": "ABX9TyPYd8WTqUGqescPrgSvVq7q",
      "include_colab_link": true
    },
    "kernelspec": {
      "name": "python3",
      "display_name": "Python 3"
    },
    "language_info": {
      "name": "python"
    }
  },
  "cells": [
    {
      "cell_type": "markdown",
      "metadata": {
        "id": "view-in-github",
        "colab_type": "text"
      },
      "source": [
        "<a href=\"https://colab.research.google.com/github/pschwartz222/MA-540-/blob/main/Roll2Dice.ipynb\" target=\"_parent\"><img src=\"https://colab.research.google.com/assets/colab-badge.svg\" alt=\"Open In Colab\"/></a>"
      ]
    },
    {
      "cell_type": "code",
      "execution_count": null,
      "metadata": {
        "id": "gnOlD-Mr_U0j"
      },
      "outputs": [],
      "source": [
        "import numpy as np\n",
        "from numpy.linalg import eig\n",
        "from numpy import linalg as LA\n",
        "from fractions import Fraction\n",
        "import math\n",
        "import random"
      ]
    },
    {
      "cell_type": "markdown",
      "source": [
        "Let's roll two six-sided dice and find the sample space."
      ],
      "metadata": {
        "id": "N8C4Jce7NVmd"
      }
    },
    {
      "cell_type": "code",
      "source": [
        "Omega = [[i,j] for i in range(1,7) for j in range(1,7)]\n",
        "print(Omega)\n",
        "n = len(Omega)\n",
        "print(n)"
      ],
      "metadata": {
        "colab": {
          "base_uri": "https://localhost:8080/"
        },
        "id": "6T_CYH-RARDI",
        "outputId": "ba7d9848-8646-4444-a7dd-ad422ee17896"
      },
      "execution_count": null,
      "outputs": [
        {
          "output_type": "stream",
          "name": "stdout",
          "text": [
            "[[1, 1], [1, 2], [1, 3], [1, 4], [1, 5], [1, 6], [2, 1], [2, 2], [2, 3], [2, 4], [2, 5], [2, 6], [3, 1], [3, 2], [3, 3], [3, 4], [3, 5], [3, 6], [4, 1], [4, 2], [4, 3], [4, 4], [4, 5], [4, 6], [5, 1], [5, 2], [5, 3], [5, 4], [5, 5], [5, 6], [6, 1], [6, 2], [6, 3], [6, 4], [6, 5], [6, 6]]\n",
            "36\n"
          ]
        }
      ]
    },
    {
      "cell_type": "markdown",
      "source": [
        "Let's count the number of rolls that add up to n."
      ],
      "metadata": {
        "id": "RMzug9h2Nbin"
      }
    },
    {
      "cell_type": "code",
      "source": [
        "def count_rolls(A,n):\n",
        "  number_rolls = 0\n",
        "  for roll in A:\n",
        "    if sum(roll) == n:\n",
        "      number_rolls = number_rolls + 1\n",
        "  return number_rolls"
      ],
      "metadata": {
        "id": "syYfYb2jBH25"
      },
      "execution_count": null,
      "outputs": []
    },
    {
      "cell_type": "markdown",
      "source": [
        "We can calculate the probability of rolling any sum."
      ],
      "metadata": {
        "id": "Px7ne3O5Njyw"
      }
    },
    {
      "cell_type": "code",
      "source": [
        "for i in range(2, 13):\n",
        "  numb = count_rolls(Omega, i)\n",
        "  print(\"Prob sum is\", i, '=', numb, \"/\", n)\n",
        "  print()"
      ],
      "metadata": {
        "colab": {
          "base_uri": "https://localhost:8080/"
        },
        "id": "gfwHnNxeB8qQ",
        "outputId": "47ed4167-7591-47d6-e098-2fa82d91438f"
      },
      "execution_count": null,
      "outputs": [
        {
          "output_type": "stream",
          "name": "stdout",
          "text": [
            "Prob sum is 2 = 1 / 36\n",
            "\n",
            "Prob sum is 3 = 2 / 36\n",
            "\n",
            "Prob sum is 4 = 3 / 36\n",
            "\n",
            "Prob sum is 5 = 4 / 36\n",
            "\n",
            "Prob sum is 6 = 5 / 36\n",
            "\n",
            "Prob sum is 7 = 6 / 36\n",
            "\n",
            "Prob sum is 8 = 5 / 36\n",
            "\n",
            "Prob sum is 9 = 4 / 36\n",
            "\n",
            "Prob sum is 10 = 3 / 36\n",
            "\n",
            "Prob sum is 11 = 2 / 36\n",
            "\n",
            "Prob sum is 12 = 1 / 36\n",
            "\n"
          ]
        }
      ]
    }
  ]
}