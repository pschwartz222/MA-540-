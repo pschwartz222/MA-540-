{
  "nbformat": 4,
  "nbformat_minor": 0,
  "metadata": {
    "colab": {
      "provenance": [],
      "authorship_tag": "ABX9TyNbKugIIt83CR0fUH/W3Hhv",
      "include_colab_link": true
    },
    "kernelspec": {
      "name": "python3",
      "display_name": "Python 3"
    },
    "language_info": {
      "name": "python"
    }
  },
  "cells": [
    {
      "cell_type": "markdown",
      "metadata": {
        "id": "view-in-github",
        "colab_type": "text"
      },
      "source": [
        "<a href=\"https://colab.research.google.com/github/pschwartz222/MA-540-/blob/main/Conditional_probability.ipynb\" target=\"_parent\"><img src=\"https://colab.research.google.com/assets/colab-badge.svg\" alt=\"Open In Colab\"/></a>"
      ]
    },
    {
      "cell_type": "code",
      "source": [
        "import numpy as np\n",
        "from numpy.linalg import eig\n",
        "from numpy import linalg as LA\n",
        "import math\n",
        "import random"
      ],
      "metadata": {
        "id": "YC3QViUzOdvJ"
      },
      "execution_count": null,
      "outputs": []
    },
    {
      "cell_type": "markdown",
      "source": [
        "Let's toss two six-sided dice."
      ],
      "metadata": {
        "id": "nR735xTRR83q"
      }
    },
    {
      "cell_type": "code",
      "source": [
        "Omega = [[i,j] for i in range(1,7) for j in range(1,7)] #create the sample space when two six-sided dice are tossed\n",
        "print(len(Omega))"
      ],
      "metadata": {
        "colab": {
          "base_uri": "https://localhost:8080/"
        },
        "id": "5MjtI6rUOqgN",
        "outputId": "1ba2adb7-7dd9-4527-dcbe-b9b750d5a010"
      },
      "execution_count": null,
      "outputs": [
        {
          "output_type": "stream",
          "name": "stdout",
          "text": [
            "36\n"
          ]
        }
      ]
    },
    {
      "cell_type": "markdown",
      "source": [
        "Say A is the event where the sum is 8\n",
        "and B is the event where the first roll is 3."
      ],
      "metadata": {
        "id": "85bX2OGKO1sh"
      }
    },
    {
      "cell_type": "code",
      "source": [
        "A = []\n",
        "B = []\n",
        "for roll in Omega:\n",
        "  if sum(roll) == 8:\n",
        "    A.append(roll)\n",
        "  if roll[0] == 3:\n",
        "    B.append(roll)"
      ],
      "metadata": {
        "id": "g0atak22O-k0"
      },
      "execution_count": null,
      "outputs": []
    },
    {
      "cell_type": "code",
      "source": [
        "print('A =', A)\n",
        "print('B =', B)"
      ],
      "metadata": {
        "colab": {
          "base_uri": "https://localhost:8080/"
        },
        "id": "5sLTRAsaQWdY",
        "outputId": "26f28c28-70e0-4a1a-9b94-e99cc8f145e0"
      },
      "execution_count": null,
      "outputs": [
        {
          "output_type": "stream",
          "name": "stdout",
          "text": [
            "A = [[2, 6], [3, 5], [4, 4], [5, 3], [6, 2]]\n",
            "B = [[3, 1], [3, 2], [3, 3], [3, 4], [3, 5], [3, 6]]\n"
          ]
        }
      ]
    },
    {
      "cell_type": "markdown",
      "source": [
        "Now let's calculate P(A|B)."
      ],
      "metadata": {
        "id": "03U9ZcAASEQa"
      }
    },
    {
      "cell_type": "code",
      "source": [
        "A_and_B = [roll for roll in A if roll in B]\n",
        "print(A_and_B)"
      ],
      "metadata": {
        "colab": {
          "base_uri": "https://localhost:8080/"
        },
        "id": "NOtIs3p9Qk9d",
        "outputId": "5cbeba39-c031-4b2c-8db5-1dcbacfc462c"
      },
      "execution_count": null,
      "outputs": [
        {
          "output_type": "stream",
          "name": "stdout",
          "text": [
            "[[3, 5]]\n"
          ]
        }
      ]
    },
    {
      "cell_type": "code",
      "source": [
        "prob_AB = len(A_and_B)/len(Omega)\n",
        "prob_B = len(B)/len(Omega)\n",
        "print(prob_AB/prob_B)"
      ],
      "metadata": {
        "colab": {
          "base_uri": "https://localhost:8080/"
        },
        "id": "duvrrqEdRmDa",
        "outputId": "e4c5a9a4-7c86-4a7b-b853-838bfe8fba0a"
      },
      "execution_count": null,
      "outputs": [
        {
          "output_type": "stream",
          "name": "stdout",
          "text": [
            "0.16666666666666666\n"
          ]
        }
      ]
    }
  ]
}